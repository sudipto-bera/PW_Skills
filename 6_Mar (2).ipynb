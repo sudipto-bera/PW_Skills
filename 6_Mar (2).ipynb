{
 "cells": [
  {
   "cell_type": "markdown",
   "id": "724c32f4",
   "metadata": {},
   "source": [
    "Statistics is the science of collecting , organizing and analyzing the data"
   ]
  },
  {
   "cell_type": "raw",
   "id": "114b956a",
   "metadata": {},
   "source": [
    "Types of Statistics : \n",
    "-> Descriptive Statistics : consists of organizing and summarizing the data. It provide information about central tendency(mean,median,mode), variablity (standard deviation,range)and distribution of data\n",
    "        Ex : Suppose we have collected the ages of all the students in a school. We can use descriptive statistics to calculate the mean, median and mode of the age distribution to summarize the central tendency of the data. We can also calculate the standard deviation to describe the variability of the data.\n",
    "-> Infertial Statistics : consists of data you have measured to form conclusion . It allow us ot make predictions or generalizations about population based on the characteristics of a sample.\n",
    "        Ex: uppose we want to know the average height of all the people in a city. We can't measure everyone's height, so we take a sample of people and measure their height. We can use inferential statistics to estimate the population mean height based on the sample mean height and the variability of the sample. We can also use inferential statistics to test hypotheses about the population mean height."
   ]
  },
  {
   "cell_type": "markdown",
   "id": "d86a1b53",
   "metadata": {},
   "source": [
    "Types of Data :\n",
    "-> Quantitative Data : it consists of numerical values \n",
    "    * Discrete value : contains numerical values\n",
    "            Ex: No of bank account, no of children in family , Population size\n",
    "    * Continuous value : contains any value\n",
    "            Ex : Height , Weight , Temp, Distance\n",
    "->Qualitative Data : contains continuous value\n",
    "    * Nominal value : rank is not assigned\n",
    "        Ex: Gender, Blood Group, Pin Code\n",
    "    * Ordinal value : rank is assigned\n",
    "        Ex: Feedback of customer - Good, Better, Best \n",
    "    "
   ]
  },
  {
   "cell_type": "markdown",
   "id": "9a266e4f",
   "metadata": {},
   "source": [
    "i) Grading in exam: A+, A, B+, B, C+, C, D, E => Qualitative \n",
    "ii) Colour of mangoes: yellow, green, orange, red => Qualitative\n",
    "iii) Height data of a class: [178.9, 179, 179.5, 176, 177.2, 178.3, 175.8,...] => Quantitative\n",
    "iv) Number of mangoes exported by a farm: [500, 600, 478, 672, ...] => Quantitative"
   ]
  },
  {
   "cell_type": "markdown",
   "id": "0a2542e0",
   "metadata": {},
   "source": [
    "Levels of measurement refer to the different ways in which things can be measured or categorized. There are four levels:\n",
    "\n",
    "Nominal: This means things are labeled, but there is no order to the labels. For example, gender - people can be male or female, but there is no \"better\" or \"worse\" gender.\n",
    "\n",
    "Ordinal: This means things are put in order, but the differences between them cannot be measured. For example, level of education - high school, bachelor's degree, or master's degree.\n",
    "\n",
    "Interval: This means things are put in order and the differences between them can be measured, but there is no true zero point. For example, temperature in Celsius or Fahrenheit - the difference between 30°C and 20°C is the same as the difference between 70°C and 60°C.\n",
    "\n",
    "Ratio: This means things are put in order, the differences between them can be measured, and there is a true zero point. For example, weight - a person who weighs 100 kg weighs twice as much as a person who weighs 50 kg, and zero weight means there is no weight at all."
   ]
  },
  {
   "cell_type": "markdown",
   "id": "35f028d0",
   "metadata": {},
   "source": [
    "->Nominal and ordinal are two different levels of measurement for categorical variables.\n",
    "->Nominal variables have no numerical value and are used to differentiate between categories.\n",
    "->Ordinal variables are also categorical but have a natural order or ranking to them.\n",
    "->Nominal variables do not have an inherent order or ranking.\n",
    "->Ordinal variables have a natural order or ranking that can be ranked from lowest to highest or vice versa.\n",
    "->The distance between each category in ordinal variables is not necessarily equal.\n",
    "->Examples of nominal variables include gender, race, and type of car.\n",
    "->Examples of ordinal variables include education level, income level, and rating systems.\n",
    "->Nominal and ordinal data require different types of statistical analysis.\n",
    "->Nominal data can be analyzed using measures of frequency and proportion, while ordinal data can be analyzed using measures of central tendency and variability.\n",
    "-> Understanding the difference between nominal and ordinal data is important when selecting appropriate statistical tests and interpreting results."
   ]
  },
  {
   "cell_type": "markdown",
   "id": "cc10803f",
   "metadata": {},
   "source": [
    "The most common type of plot used to display data in terms of range is a box plot.\n",
    "\n",
    "A box plot displays the five-number summary of a data set (minimum, lower quartile, median, upper quartile, and maximum) and provides a visual representation of the range, skewness, and outliers of the data. The box in the plot represents the interquartile range (IQR), which is the range between the first and third quartile, while the whiskers extend to the minimum and maximum values in the data set.\n",
    "\n",
    "Box plots are useful for comparing the distribution of multiple data sets and identifying any differences or similarities between them. They are also helpful in identifying any outliers or extreme values that may be present in the data."
   ]
  },
  {
   "cell_type": "markdown",
   "id": "9b717689",
   "metadata": {},
   "source": [
    "Descriptive statistics refer to methods of organizing, summarizing, and presenting data in a meaningful way. Descriptive statistics are used to describe or summarize a data set without making any inferences or conclusions about the population from which the sample was drawn.\n",
    "\n",
    "For example, suppose we collect data on the heights of a group of individuals. Descriptive statistics would be used to calculate measures such as the mean, median, mode, range, and standard deviation of the heights of the individuals in the sample. These measures provide a summary of the data and can be used to identify patterns, trends, or any outliers in the data set.\n",
    "\n",
    "Inferential statistics, on the other hand, refer to methods of making inferences or conclusions about a population based on a sample of data. Inferential statistics are used to test hypotheses, make predictions, and draw generalizations about a larger population based on the characteristics of the sample.\n",
    "\n",
    "For example, suppose we want to know if the average height of a population is different from a specific value, say 6 feet. Inferential statistics would be used to test this hypothesis by collecting a sample of heights from the population, calculating the mean of the sample, and using statistical tests to determine whether the mean is significantly different from 6 feet."
   ]
  },
  {
   "cell_type": "markdown",
   "id": "ce1ae5d3",
   "metadata": {},
   "source": [
    "Measures of central tendency and variability are used to describe the characteristics of a dataset.\n",
    "\n",
    "Measures of Central Tendency:\n",
    "\n",
    "Mean: The arithmetic mean is the most common measure of central tendency. It is calculated by adding up all the values in the dataset and dividing by the total number of values. The mean represents the average value of the dataset and is sensitive to extreme values or outliers.\n",
    "Median: The median is the middle value in the dataset when the values are ordered from smallest to largest. It represents the value that divides the dataset into two equal parts. The median is less sensitive to extreme values than the mean.\n",
    "Mode: The mode is the value that appears most frequently in the dataset. It represents the most common value in the dataset.\n",
    "Measures of Variability:\n",
    "\n",
    "Range: The range is the difference between the maximum and minimum values in the dataset. It represents the spread of the dataset.\n",
    "Variance: The variance measures the average distance of each value from the mean of the dataset. It is calculated by subtracting each value from the mean, squaring the differences, adding them up, and dividing by the number of values minus one. A higher variance indicates a wider spread of values in the dataset.\n",
    "Standard Deviation: The standard deviation is the square root of the variance. It represents the average deviation of each value from the mean of the dataset. A higher standard deviation indicates a wider spread of values in the dataset.\n",
    "The mean, median, and mode provide information about the center of the dataset, while the range, variance, and standard deviation provide information about the variability of the dataset.\n",
    "\n",
    "For example, if we have a dataset of test scores, we can use the mean to find the average score, the median to find the middle score, and the mode to find the most common score. We can use the range to find the difference between the highest and lowest scores, the variance to find the average deviation of each score from the mean, and the standard deviation to find the average distance of each score from the mean. These measures can help us describe the distribution of scores and identify any outliers or patterns in the data.\n",
    "\n"
   ]
  },
  {
   "cell_type": "code",
   "execution_count": null,
   "id": "2675fb4c",
   "metadata": {},
   "outputs": [],
   "source": []
  }
 ],
 "metadata": {
  "kernelspec": {
   "display_name": "Python 3 (ipykernel)",
   "language": "python",
   "name": "python3"
  },
  "language_info": {
   "codemirror_mode": {
    "name": "ipython",
    "version": 3
   },
   "file_extension": ".py",
   "mimetype": "text/x-python",
   "name": "python",
   "nbconvert_exporter": "python",
   "pygments_lexer": "ipython3",
   "version": "3.9.12"
  }
 },
 "nbformat": 4,
 "nbformat_minor": 5
}
